{
 "cells": [
  {
   "cell_type": "code",
   "execution_count": 1,
   "id": "a29cd2d1",
   "metadata": {},
   "outputs": [],
   "source": [
    "import pandas as pd"
   ]
  },
  {
   "cell_type": "code",
   "execution_count": 2,
   "id": "fe88dc0f",
   "metadata": {},
   "outputs": [],
   "source": [
    "import numpy as np"
   ]
  },
  {
   "cell_type": "code",
   "execution_count": 3,
   "id": "681f7265",
   "metadata": {},
   "outputs": [],
   "source": [
    "from sklearn.model_selection import train_test_split"
   ]
  },
  {
   "cell_type": "code",
   "execution_count": 4,
   "id": "ddd2b59b",
   "metadata": {},
   "outputs": [],
   "source": [
    "from sklearn.linear_model import LinearRegression"
   ]
  },
  {
   "cell_type": "code",
   "execution_count": 5,
   "id": "2ac39afe",
   "metadata": {},
   "outputs": [],
   "source": [
    "from sklearn.metrics import mean_absolute_error, mean_squared_error, r2_score"
   ]
  },
  {
   "cell_type": "markdown",
   "id": "a55365ab",
   "metadata": {},
   "source": [
    "    # Load the data into a Pandas DataFrame"
   ]
  },
  {
   "cell_type": "code",
   "execution_count": 6,
   "id": "ee9b7d69",
   "metadata": {},
   "outputs": [],
   "source": [
    "df = pd.read_csv(r'C:\\Users\\Victor Kithinzi\\Downloads\\insurance.csv')"
   ]
  },
  {
   "cell_type": "markdown",
   "id": "8c1132bb",
   "metadata": {},
   "source": [
    "    # Convert the non-numeric values into numeric"
   ]
  },
  {
   "cell_type": "code",
   "execution_count": 7,
   "id": "dfaf9126",
   "metadata": {},
   "outputs": [],
   "source": [
    "df['smoker'] = df['smoker'].apply(lambda x: 1 if x == 'yes' else 0)\n",
    "df['sex'] = df['sex'].apply(lambda x: 1 if x == 'yes' else 0)\n",
    "df['region'] = df['region'].apply(lambda x: 1 if x == 'yes' else 0)"
   ]
  },
  {
   "cell_type": "markdown",
   "id": "ef9b57f0",
   "metadata": {},
   "source": [
    "    # Split the data into training and testing sets"
   ]
  },
  {
   "cell_type": "code",
   "execution_count": 8,
   "id": "78c114fa",
   "metadata": {},
   "outputs": [],
   "source": [
    "X = df.drop('charges', axis=1)\n",
    "y = df['charges']\n",
    "X_train, X_test, y_train, y_test = train_test_split(X, y, test_size=0.2, random_state=0)"
   ]
  },
  {
   "cell_type": "markdown",
   "id": "66c6375d",
   "metadata": {},
   "source": [
    "    # Train a linear regression model"
   ]
  },
  {
   "cell_type": "code",
   "execution_count": 9,
   "id": "9b25b2ae",
   "metadata": {},
   "outputs": [
    {
     "data": {
      "text/plain": [
       "LinearRegression()"
      ]
     },
     "execution_count": 9,
     "metadata": {},
     "output_type": "execute_result"
    }
   ],
   "source": [
    "regressor = LinearRegression()\n",
    "regressor.fit(X_train, y_train)"
   ]
  },
  {
   "cell_type": "markdown",
   "id": "b20ea6b0",
   "metadata": {},
   "source": [
    "    # Make predictions on the testing data"
   ]
  },
  {
   "cell_type": "code",
   "execution_count": 10,
   "id": "be309bd2",
   "metadata": {},
   "outputs": [],
   "source": [
    "y_pred = regressor.predict(X_test)"
   ]
  },
  {
   "cell_type": "markdown",
   "id": "fb6cdf83",
   "metadata": {},
   "source": [
    "    # Evaluate the model using MAE, RMSE, and MSE"
   ]
  },
  {
   "cell_type": "code",
   "execution_count": 11,
   "id": "c2dc90a3",
   "metadata": {},
   "outputs": [
    {
     "name": "stdout",
     "output_type": "stream",
     "text": [
      "Mean Absolute Error:  3941.069397763101\n",
      "Mean Squared Error:  32171708.572455727\n",
      "Root Mean Squared Error:  5672.01098134125\n",
      "R^2 Score:  0.7978274606303823\n"
     ]
    }
   ],
   "source": [
    "mae = mean_absolute_error(y_test, y_pred)\n",
    "mse = mean_squared_error(y_test, y_pred)\n",
    "rmse = np.sqrt(mse)\n",
    "\n",
    "print(\"Mean Absolute Error: \", mae)\n",
    "print(\"Mean Squared Error: \", mse)\n",
    "print(\"Root Mean Squared Error: \", rmse)\n",
    "print(\"R^2 Score: \", r2_score(y_test, y_pred))"
   ]
  },
  {
   "cell_type": "code",
   "execution_count": null,
   "id": "82683701",
   "metadata": {},
   "outputs": [],
   "source": []
  }
 ],
 "metadata": {
  "kernelspec": {
   "display_name": "Python 3 (ipykernel)",
   "language": "python",
   "name": "python3"
  },
  "language_info": {
   "codemirror_mode": {
    "name": "ipython",
    "version": 3
   },
   "file_extension": ".py",
   "mimetype": "text/x-python",
   "name": "python",
   "nbconvert_exporter": "python",
   "pygments_lexer": "ipython3",
   "version": "3.9.13"
  }
 },
 "nbformat": 4,
 "nbformat_minor": 5
}
